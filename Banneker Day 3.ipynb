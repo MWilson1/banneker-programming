{
 "metadata": {
  "name": "",
  "signature": "sha256:53c815b4e02be4e33d0b352598d1ea5ecd89d9fb41dee59813e34f6662be596f"
 },
 "nbformat": 3,
 "nbformat_minor": 0,
 "worksheets": [
  {
   "cells": [
    {
     "cell_type": "markdown",
     "metadata": {},
     "source": [
      "Packages, functions, and modules"
     ]
    },
    {
     "cell_type": "markdown",
     "metadata": {},
     "source": [
      "An important part of coding (in Python and in other modern language) is organizing code in easily re-used chunks."
     ]
    },
    {
     "cell_type": "markdown",
     "metadata": {},
     "source": [
      "Python can work within both a *procedural* and an *object-oriented* style."
     ]
    },
    {
     "cell_type": "markdown",
     "metadata": {},
     "source": [
      "Procedural programming uses functions"
     ]
    },
    {
     "cell_type": "markdown",
     "metadata": {},
     "source": [
      "Object oriented uses classes. Today we'll discuss procedural, next week we'll discuss object oriented programming."
     ]
    },
    {
     "cell_type": "markdown",
     "metadata": {},
     "source": [
      "What is a function?"
     ]
    },
    {
     "cell_type": "code",
     "collapsed": false,
     "input": [
      "def fizzbuzz(ntot, show=True):\n",
      "    pass"
     ],
     "language": "python",
     "metadata": {},
     "outputs": [],
     "prompt_number": 7
    },
    {
     "cell_type": "markdown",
     "metadata": {},
     "source": [
      "You can name your function anything, as long as it doesn't start with a number, isn't a built-in keyword, and only contains numbers, letters, and underscores"
     ]
    },
    {
     "cell_type": "markdown",
     "metadata": {},
     "source": [
      "Note for IDL users: there is no difference between functions and procedures. All Python functions return a value: if no return is specified, it returns None"
     ]
    },
    {
     "cell_type": "code",
     "collapsed": false,
     "input": [
      "def addnums(x, y=3):\n",
      "    return x + y"
     ],
     "language": "python",
     "metadata": {},
     "outputs": [],
     "prompt_number": 10
    },
    {
     "cell_type": "code",
     "collapsed": false,
     "input": [
      "addnums(2, 4)"
     ],
     "language": "python",
     "metadata": {},
     "outputs": [
      {
       "metadata": {},
       "output_type": "pyout",
       "prompt_number": 11,
       "text": [
        "6"
       ]
      }
     ],
     "prompt_number": 11
    },
    {
     "cell_type": "code",
     "collapsed": false,
     "input": [
      "addnums(5)"
     ],
     "language": "python",
     "metadata": {},
     "outputs": [
      {
       "metadata": {},
       "output_type": "pyout",
       "prompt_number": 13,
       "text": [
        "8"
       ]
      }
     ],
     "prompt_number": 13
    },
    {
     "cell_type": "code",
     "collapsed": false,
     "input": [
      "addnums(\"A\", \"B\")"
     ],
     "language": "python",
     "metadata": {},
     "outputs": [
      {
       "metadata": {},
       "output_type": "pyout",
       "prompt_number": 14,
       "text": [
        "'AB'"
       ]
      }
     ],
     "prompt_number": 14
    },
    {
     "cell_type": "markdown",
     "metadata": {},
     "source": [
      "Python functions use _local_ variables, unless you use the _global_ variable definition "
     ]
    },
    {
     "cell_type": "markdown",
     "metadata": {},
     "source": [
      "Documentation rocks, too!"
     ]
    },
    {
     "cell_type": "code",
     "collapsed": false,
     "input": [
      "def power_of_difference(x, y, p=2.0):\n",
      "    \"\"\"Return the power of the difference of x and y\n",
      "    \n",
      "    Parameters\n",
      "    ----------\n",
      "    x, y : float\n",
      "        the values to be differenced\n",
      "    p : float (optional)\n",
      "        the exponent (default = 2.0)\n",
      "    \n",
      "    Returns\n",
      "    -------\n",
      "    result: float\n",
      "        (x - y) ** p\n",
      "    \"\"\"\n",
      "    diff = x - y\n",
      "    return diff ** p\n",
      "\n",
      "power_of_difference(10.0, 5.0)"
     ],
     "language": "python",
     "metadata": {},
     "outputs": [
      {
       "metadata": {},
       "output_type": "pyout",
       "prompt_number": 15,
       "text": [
        "25.0"
       ]
      }
     ],
     "prompt_number": 15
    },
    {
     "cell_type": "code",
     "collapsed": false,
     "input": [
      "help(power_of_difference)"
     ],
     "language": "python",
     "metadata": {},
     "outputs": [
      {
       "output_type": "stream",
       "stream": "stdout",
       "text": [
        "Help on function power_of_difference in module __main__:\n",
        "\n",
        "power_of_difference(x, y, p=2.0)\n",
        "    Return the power of the difference of x and y\n",
        "    \n",
        "    Parameters\n",
        "    ----------\n",
        "    x, y : float\n",
        "        the values to be differenced\n",
        "    p : float (optional)\n",
        "        the exponent (default = 2.0)\n",
        "    \n",
        "    Returns\n",
        "    -------\n",
        "    result: float\n",
        "        (x - y) ** p\n",
        "\n"
       ]
      }
     ],
     "prompt_number": 16
    },
    {
     "cell_type": "code",
     "collapsed": false,
     "input": [
      "import mymodule"
     ],
     "language": "python",
     "metadata": {},
     "outputs": [],
     "prompt_number": 17
    },
    {
     "cell_type": "code",
     "collapsed": false,
     "input": [
      "import mymodule as m"
     ],
     "language": "python",
     "metadata": {},
     "outputs": [],
     "prompt_number": 18
    },
    {
     "cell_type": "code",
     "collapsed": false,
     "input": [
      "from mymodule import *"
     ],
     "language": "python",
     "metadata": {},
     "outputs": [],
     "prompt_number": 19
    },
    {
     "cell_type": "code",
     "collapsed": false,
     "input": [
      "from mymodule import add_numbers"
     ],
     "language": "python",
     "metadata": {},
     "outputs": [],
     "prompt_number": 20
    },
    {
     "cell_type": "markdown",
     "metadata": {},
     "source": [
      "Common modules that are useful! numpy, scipy, matplotlib, astropy, pyfits, pandas, scikit-learn"
     ]
    },
    {
     "cell_type": "markdown",
     "metadata": {},
     "source": [
      "Plotting freestyle time. We'll discuss numpy arrays, and then plot up a vs e from the asteroids table, and talk about some of the basics and import things in numpy and scipy."
     ]
    },
    {
     "cell_type": "code",
     "collapsed": false,
     "input": [],
     "language": "python",
     "metadata": {},
     "outputs": []
    }
   ],
   "metadata": {}
  }
 ]
}